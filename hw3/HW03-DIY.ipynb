{
 "cells": [
  {
   "cell_type": "markdown",
   "metadata": {},
   "source": [
    "# **Homework 3 - Convolutional Neural Network (CNN)**"
   ]
  },
  {
   "cell_type": "code",
   "execution_count": null,
   "metadata": {},
   "outputs": [],
   "source": [
    "# 加载谷歌硬盘\n",
    "# from google.colab import drive\n",
    "# drive.mount('/content/drive')"
   ]
  },
  {
   "cell_type": "code",
   "execution_count": null,
   "metadata": {},
   "outputs": [],
   "source": [
    "# 添加此选项、不然gdown从Google Drive 中下载会报错\n",
    "# !pip install --upgrade --no-cache-dir gdown"
   ]
  },
  {
   "cell_type": "markdown",
   "metadata": {},
   "source": [
    "### 下载数据"
   ]
  },
  {
   "cell_type": "code",
   "execution_count": 1,
   "metadata": {},
   "outputs": [
    {
     "ename": "SyntaxError",
     "evalue": "invalid syntax (<ipython-input-1-8ed2f1d26979>, line 8)",
     "output_type": "error",
     "traceback": [
      "\u001b[0;36m  File \u001b[0;32m\"<ipython-input-1-8ed2f1d26979>\"\u001b[0;36m, line \u001b[0;32m8\u001b[0m\n\u001b[0;31m    wget https://www.dropbox.com/s/m9q6273jl3djall/food-11.zip -O food-11.zip\u001b[0m\n\u001b[0m             ^\u001b[0m\n\u001b[0;31mSyntaxError\u001b[0m\u001b[0;31m:\u001b[0m invalid syntax\n"
     ]
    }
   ],
   "source": [
    "# Download the dataset\n",
    "# You may choose where to download the data.\n",
    "\n",
    "# Google Drive\n",
    "# !gdown --id '1awF7pZ9Dz7X1jn1_QAiKN-_v56veCEKy' --output food-11.zip\n",
    "\n",
    "# Dropbox\n",
    "# !wget https://www.dropbox.com/s/m9q6273jl3djall/food-11.zip -O food-11.zip\n",
    "\n",
    "\n",
    "# MEGA\n",
    "# !sudo apt install megatools\n",
    " #!megadl \"https://mega.nz/#!zt1TTIhK!ZuMbg5ZjGWzWX1I6nEUbfjMZgCmAgeqJlwDkqdIryfg\"\n",
    "\n",
    "# Unzip the dataset.  This may take some time.\n",
    "# !unzip -q food-11.zip"
   ]
  },
  {
   "cell_type": "markdown",
   "metadata": {},
   "source": [
    "### 数据集、数据load器、图像转换"
   ]
  },
  {
   "cell_type": "code",
   "execution_count": null,
   "metadata": {},
   "outputs": [],
   "source": [
    "# Import necessary packages.\n",
    "import numpy as np\n",
    "import torch\n",
    "import torch.nn as nn\n",
    "import torchvision.transforms as transforms\n",
    "from PIL import Image\n",
    "# \"ConcatDataset\" and \"Subset\" are possibly useful when doing semi-supervised learning.\n",
    "from torch.utils.data import ConcatDataset, DataLoader, Subset\n",
    "from torchvision.datasets import DatasetFolder\n",
    "import matplotlib.pyplot as plt\n",
    "\n",
    "# This is for the progress bar.\n",
    "# 进度条使用的\n",
    "from tqdm import tqdm\n"
   ]
  },
  {
   "cell_type": "markdown",
   "metadata": {},
   "source": [
    "##### 数据转换"
   ]
  },
  {
   "cell_type": "code",
   "execution_count": null,
   "metadata": {},
   "outputs": [],
   "source": [
    "# It is important to do data augmentation in training.\n",
    "train_tfm = transforms.Compose([\n",
    "    # Resize the image into a fixed shape (height = width = 128)\n",
    "    transforms.Resize((128, 128)),\n",
    "    # You may add some transforms here.\n",
    "    # ToTensor() should be the last one of the transforms.\n",
    "    transforms.ToTensor(),\n",
    "])\n",
    "\n",
    "# We don't need augmentations in testing and validation.\n",
    "# All we need here is to resize the PIL image and transform it into Tensor.\n",
    "test_tfm = transforms.Compose([\n",
    "    transforms.Resize((128, 128)),\n",
    "    transforms.ToTensor(),\n",
    "])\n"
   ]
  },
  {
   "cell_type": "markdown",
   "metadata": {},
   "source": [
    "#### 数据集、数据集加载器"
   ]
  },
  {
   "cell_type": "code",
   "execution_count": null,
   "metadata": {},
   "outputs": [],
   "source": [
    "#批量大小、一个合适的批量号、可以获得一个稳定的梯度下降\n",
    "batch_size = 128\n",
    "\n",
    "# loader告诉DatasetFolder如何去读取数据\n",
    "train_set = DatasetFolder('food-11/training/labeled', loader= lambda x: Image.open(x), extensions='jpg', transform=train_tfm)\n",
    "valid_set = DatasetFolder('food-11/validation', loader= lambda x: Image.open(x), extensions='jpg', transform=test_tfm)\n",
    "unlabel_set = DatasetFolder('food-11/training/unlabeled',loader=lambda x: Image.open(x), extensions='jpg', transform=train_tfm)\n",
    "test_set = DatasetFolder('food-11/testing',loader=lambda x: Image.open(x), extensions='jpg', transform=test_tfm)\n",
    "\n",
    "# 定义dataloader\n",
    "train_loader = DataLoader(train_set,batch_size=batch_size,shuffle=True, num_workers=2, pin_memory=True)\n",
    "valid_loader = DataLoader(valid_set,batch_size=batch_size,shuffle=True, num_workers=2, pin_memory=True)\n",
    "test_loader = DataLoader(test_set,batch_size=batch_size,shuffle=False)"
   ]
  },
  {
   "cell_type": "markdown",
   "metadata": {},
   "source": [
    "## 定义你的model\n",
    "可以选择其他经典model,比如:\n",
    "model = torchvision.models.resnet18(pretrained=**False**) "
   ]
  },
  {
   "cell_type": "code",
   "execution_count": null,
   "metadata": {},
   "outputs": [],
   "source": [
    "class DIYModel(nn.Module):\n",
    "    def __init__(self):\n",
    "        super(DIYModel,self).__init__()\n",
    "        self.cnn_layers = nn.Sequential(\n",
    "            # 参数意义: 输入通道数为3、输出通道数为64、卷积核为3、步长为1、填充值为1\n",
    "            nn.Conv2d(3, 64, 3, 1, 1), # 输出结果: batch_size保持原有的、输出通道数为64、输出通道数为64、卷积核为3、步长为1、填充值为1\n",
    "            nn.BatchNorm2d(64),\n",
    "            nn.ReLU(),\n",
    "            nn.MaxPool2d(2, 2, 0),\n",
    "\n",
    "            nn.Conv2d(64, 128, 3, 1, 1),\n",
    "            nn.BatchNorm2d(128),\n",
    "            nn.ReLU(),\n",
    "            nn.MaxPool2d(2, 2, 0),\n",
    "\n",
    "            nn.Conv2d(128, 256, 3, 1, 1),\n",
    "            nn.BatchNorm2d(256),\n",
    "            nn.ReLU(),\n",
    "            nn.MaxPool2d(4, 4, 0),\n",
    "        )\n",
    "        self.full_connect_layers = nn.Sequential(\n",
    "            nn.Linear(256 * 8 * 8, 256),\n",
    "            nn.ReLU(),\n",
    "            nn.Linear(256, 256),\n",
    "            nn.ReLU(),\n",
    "            nn.Linear(256, 11)\n",
    "        )\n",
    "\n",
    "    def forward(self, x):\n",
    "        # input (x): [batch_size, 3, 128, 128]\n",
    "        # output: [batch_size, 11]\n",
    "\n",
    "        # Extract features by convolutional layers.\n",
    "        x = self.cnn_layers(x)\n",
    "\n",
    "        # The extracted feature map must be flatten before going to fully-connected layers.\n",
    "        # 把x变成一维的\n",
    "        x = x.flatten(1)\n",
    "\n",
    "        # The features are transformed by fully-connected layers to obtain the final logits.\n",
    "        # 一共11个种类、所以最后的输出是11个\n",
    "        x = self.full_connect_layers(x)\n",
    "        return x"
   ]
  },
  {
   "cell_type": "markdown",
   "metadata": {},
   "source": [
    "## 训练"
   ]
  },
  {
   "cell_type": "code",
   "execution_count": null,
   "metadata": {},
   "outputs": [],
   "source": [
    "# \"cuda\" only when GPUs are available.\n",
    "device = \"cuda\" if torch.cuda.is_available() else \"cpu\"\n",
    "\n",
    "# 初始化model、并把model放入device中\n",
    "model = DIYModel().to(device)\n",
    "model.device = device\n",
    "\n",
    "# 损失函数、交叉熵、用于分类loss\n",
    "criterion = nn.CrossEntropyLoss()\n",
    "\n",
    "# 优化器、计算梯度下降\n",
    "optim = torch.optim.Adam(model.parameters(),lr=0.005)\n",
    "\n",
    "# The number of training epochs.\n",
    "n_epochs = 80\n",
    "\n",
    "# semi-supervised learning 中想做一些其他事情、则需要就可以\n",
    "do_semi = False\n",
    "loss_record = []\n",
    "valid_record = []\n",
    "for epoch in range(n_epochs):\n",
    "    if do_semi:\n",
    "        # 做一些训练之外的事情\n",
    "        pseudo_set = get_pseudo_labels(unlabeled_set, model)\n",
    "        # Construct a new dataset and a data loader for training.\n",
    "        # This is used in semi-supervised learning only.\n",
    "        concat_dataset = ConcatDataset([train_set, pseudo_set])\n",
    "        train_loader = DataLoader(concat_dataset, batch_size=batch_size, shuffle=True, num_workers=8, pin_memory=True)\n",
    "\n",
    "    # ---------- Training ----------\n",
    "\n",
    "    # 设置为训练模式\n",
    "    model.train()\n",
    "    # These are used to record information in training.\n",
    "    train_loss = []\n",
    "    train_accs = []\n",
    "    for batch in tqdm(train_loader):\n",
    "        # A batch consists of image data and corresponding labels.\n",
    "        imgs, labels = batch\n",
    "        logits = model(imgs.to(device))\n",
    "        loss = criterion(logits, labels.to(device))\n",
    "        #   前一步的梯度被存储、应该先清除\n",
    "        optim.zero_grad()\n",
    "        # 计算梯度\n",
    "        loss.backward()\n",
    "\n",
    "        # Clip the gradient norms for stable training.\n",
    "        grad_norm = nn.utils.clip_grad_norm_(model.parameters(), max_norm=10)\n",
    "\n",
    "        # Update the parameters with computed gradients.\n",
    "        optim.step()\n",
    "        #acc为什么还这样计算不了解,\n",
    "        acc = (logits.argmax(dim=-1) == labels.to(device)).float().mean()\n",
    "        train_loss.append(loss.item())\n",
    "        train_accs.append(acc)\n",
    "    \n",
    "    tr_loss = sum(train_loss) / len(train_loss)\n",
    "    tr_acc  = sum(train_accs) / len(train_accs)\n",
    "    loss_record.append(tr_loss)\n",
    "    print(\" Trian | epoch: {}, loss: {}, acc: {}\".format(epoch+1,tr_loss,tr_acc))\n",
    "\n",
    "    # ---------- Validation ----------\n",
    "    valid_loss = []\n",
    "    valid_acc = []\n",
    "    # 设定模型为评估类型\n",
    "    model.eval()\n",
    "    for batch in tqdm(valid_loader):\n",
    "        imgs, labels = batch\n",
    "        with torch.no_grad():\n",
    "            logits = model(imgs.to(device))\n",
    "         #计算loss\n",
    "        loss = criterion(logits, labels.to(device))\n",
    "\n",
    "        #计算acc\n",
    "        acc = (logits.argmax(dim=-1) == labels.to(device)).float().mean()\n",
    "        valid_loss.append(loss.item())\n",
    "        valid_acc.append(acc)\n",
    "    val_loss = sum(valid_loss) / len(valid_loss)\n",
    "    val_acc = sum(valid_acc) / len(valid_acc)\n",
    "    print(\" valid | epoch: {}, loss: {}, acc: {}\".format(epoch+1,val_loss,val_acc))\n",
    "    epoch +=1\n",
    "    # 遇到10的倍数或者最后一次保存模型\n",
    "    if epoch % 10 ==0 | epoch == n_epochs:\n",
    "        torch.save(model.state_dict,'./model_hw3')\n",
    "        print(\" save model | epoch: {}, loss: {}, acc: {}\".format(epoch,tr_loss,tr_acc))\n",
    "\n",
    "plt.figure(figsize=(6,4))\n",
    "plt.plot(range(len(loss_record)), loss_record, c='tab:red', label='train')\n",
    "plt.plot(range(len(valid_record)), valid_record, c='tab:cyan', label='valid')\n",
    "plt.ylim(0.0, 5)\n",
    "plt.ylabel('trian steps')\n",
    "plt.xlabel('cross loss')\n",
    "plt.title('Learning curve of train')\n",
    "plt.legend()\n",
    "plt.show()"
   ]
  }
 ],
 "metadata": {
  "interpreter": {
   "hash": "31c22f3676665ca50e484a514997d5ec4dc4b6edb8bb646d37a9ef7ea9c07c82"
  },
  "kernelspec": {
   "display_name": "Python 3.5.6 ('python35')",
   "language": "python",
   "name": "python3"
  },
  "language_info": {
   "codemirror_mode": {
    "name": "ipython",
    "version": 3
   },
   "file_extension": ".py",
   "mimetype": "text/x-python",
   "name": "python",
   "nbconvert_exporter": "python",
   "pygments_lexer": "ipython3",
   "version": "3.5.6"
  },
  "orig_nbformat": 4
 },
 "nbformat": 4,
 "nbformat_minor": 2
}
