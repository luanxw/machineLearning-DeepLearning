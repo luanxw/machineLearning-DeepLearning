{
 "cells": [
  {
   "cell_type": "code",
   "execution_count": 183,
   "metadata": {},
   "outputs": [],
   "source": [
    "import pandas as pd\n",
    "import numpy as np\n",
    "import sklearn.model_selection as sm\n",
    "import matplotlib.pyplot as plt\n",
    "import torch\n",
    "import torch.nn as nn\n",
    "from torch.utils.data import DataLoader, Dataset\n",
    "\n",
    "tr_path = 'covid.train.csv'\n",
    "tt_path = 'covid.test.csv'\n",
    "config = {'batch_size': 80,\n",
    "    'save_path':'models/covid-model',\n",
    "    'early_stop_count':220,\n",
    "    'epochs':2000}"
   ]
  },
  {
   "cell_type": "code",
   "execution_count": 184,
   "metadata": {},
   "outputs": [],
   "source": [
    "# data = pd.read_csv(tr_path).drop(['id'], axis=1)\n",
    "# target =  data[['tested_positive.2']]\n",
    "# print(target.shape)\n",
    "# data.head(3)\n",
    "# data_corr = data.iloc[:,40:].corr()\n",
    "# data_col  = data_corr['tested_positive.2']\n",
    "# target_col = data_col[data_col > 0.8]\n",
    "# target_col = target_col.drop(['tested_positive.2'])\n",
    "# features = target_col.index.tolist()\n",
    "# # print(features)\n",
    "# data = data[features]\n",
    "# data.head(3)\n"
   ]
  },
  {
   "cell_type": "markdown",
   "metadata": {},
   "source": [
    "#### 定义数据集"
   ]
  },
  {
   "cell_type": "code",
   "execution_count": 185,
   "metadata": {},
   "outputs": [],
   "source": [
    "\n",
    "\n",
    "class COVID19DataSet(Dataset):\n",
    "    def __init__(self, model, path):\n",
    "        data = pd.read_csv(path).drop(['id'],axis=1)\n",
    "        # print('读取数据示例:')\n",
    "        # print(data.head(2))\n",
    "        data_corr = data.iloc[:,40:].corr()\n",
    "        data_col  = data_corr['tested_positive.2']\n",
    "        target_col = data_col[data_col > 0.8]\n",
    "        features = target_col.index.tolist()\n",
    "        data = data[features]\n",
    "        self.model = model\n",
    "        # data = pd.DataFrame(data)\n",
    "        if model == 'test':\n",
    "            # print('test 模型样本数据: ')\n",
    "            # print(data.head(3))\n",
    "            self.data = torch.FloatTensor(data)\n",
    "        else:\n",
    "            train_data, valid_data = sm.train_test_split(data,test_size=0.25,random_state=249)\n",
    "            train_data = pd.DataFrame(train_data)\n",
    "            valid_data = pd.DataFrame(valid_data)\n",
    "            if model == 'train':\n",
    "                # print('train 模型样本数据: ')\n",
    "                # print(train_data.head(3))\n",
    "                self.target = torch.FloatTensor(np.array(train_data[['tested_positive.2']]))\n",
    "                self.data = torch.FloatTensor(np.array(train_data[features]))\n",
    "            elif model == 'valid':\n",
    "                # print('valid 模型样本数据: ', valid_data.head(3))\n",
    "                self.target = torch.FloatTensor(np.array(valid_data[['tested_positive.2']]))\n",
    "                self.data = torch.FloatTensor(np.array(valid_data[features]))\n",
    "            else:\n",
    "                print('未知训练模型: {}、无数据加载!!!!'.format(model))\n",
    "        self.dim = self.data.shape[1]\n",
    "        print('完成数据加载、模型:{},数据量:{}'.format(model, len(self.data)))\n",
    "\n",
    "    def __getitem__(self, index):\n",
    "        if self.model == 'test':\n",
    "            # 测试数据集不需要预测值\n",
    "            return self.data[index]\n",
    "        else:\n",
    "            return self.data[index],self.target[index]\n",
    "\n",
    "    def __len__(self):\n",
    "        return len(self.data)\n",
    "       "
   ]
  },
  {
   "cell_type": "markdown",
   "metadata": {},
   "source": [
    "#### 数据集加载引擎"
   ]
  },
  {
   "cell_type": "code",
   "execution_count": 186,
   "metadata": {},
   "outputs": [],
   "source": [
    "def load_data(model,path,batch_size,shuffle):\n",
    "    dataset = COVID19DataSet(model,path)\n",
    "    # shuffle 属性、Training: True Testing:  False\n",
    "    return DataLoader(dataset,batch_size,shuffle)"
   ]
  },
  {
   "cell_type": "markdown",
   "metadata": {},
   "source": [
    "#### 判断是否支持GPU"
   ]
  },
  {
   "cell_type": "code",
   "execution_count": 187,
   "metadata": {},
   "outputs": [],
   "source": [
    "def get_device():\n",
    "    return 'cuda' if torch.cuda.is_available() else  'cpu'"
   ]
  },
  {
   "cell_type": "markdown",
   "metadata": {},
   "source": [
    "#### 定义神经网络"
   ]
  },
  {
   "cell_type": "code",
   "execution_count": 188,
   "metadata": {},
   "outputs": [],
   "source": [
    "class NeturalNet(nn.Module):\n",
    "    def __init__(self, input_dim):\n",
    "        super(NeturalNet,self).__init__()\n",
    "        self.net = nn.Sequential(\n",
    "            nn.Linear(input_dim, 68),\n",
    "            nn.ReLU(),\n",
    "            nn.Linear(68,1)\n",
    "        )\n",
    "        self.criterion = nn.MSELoss(reduction='mean')\n",
    "        \n",
    "    def forward(self, x):\n",
    "        return self.net(x)\n",
    "\n",
    "    def loss_criterion(self,pred, target):\n",
    "        # print('预测值: ', pred.size())\n",
    "        # print('实际值:', target.size())\n",
    "        return self.criterion(pred, target)\n"
   ]
  },
  {
   "cell_type": "code",
   "execution_count": 189,
   "metadata": {},
   "outputs": [],
   "source": [
    "def valid_model(valid_set, model, device):\n",
    "    model.eval()\n",
    "    total_loss = 0\n",
    "    for x,y in valid_set:\n",
    "        x,y = x.to(device), y.to(device)\n",
    "        with torch.no_grad():\n",
    "            pred = model(x)\n",
    "            mse_loss = model.loss_criterion(pred,y)\n",
    "            total_loss += mse_loss.detach().cpu().numpy()\n",
    "        return total_loss / len(valid_set.dataset)"
   ]
  },
  {
   "cell_type": "markdown",
   "metadata": {},
   "source": [
    "#### 定义训练过程"
   ]
  },
  {
   "cell_type": "code",
   "execution_count": 190,
   "metadata": {},
   "outputs": [],
   "source": [
    "def train_model(train_set, valid_set, model, device, config):\n",
    "    epochs = config['epochs']\n",
    "    optm = torch.optim.Adam(model.parameters(),lr=0.05)\n",
    "    min_mse = 10000000\n",
    "    epoch = 1\n",
    "    loss_record = {'train':[],'valid':[]}\n",
    "    early_stop = 0\n",
    "    print(config['early_stop_count'])\n",
    "    while epoch < epochs :\n",
    "        model.train()\n",
    "        for x, y in train_set:\n",
    "            optm.zero_grad()\n",
    "            x ,y= x.to(device),y.to(device)\n",
    "            pred_y = model(x)\n",
    "            mse_loss = model.loss_criterion(pred_y, y)\n",
    "            mse_loss.backward()\n",
    "            optm.step()\n",
    "            loss_record['train'].append(mse_loss.detach().cpu().numpy())\n",
    "            # 验证训练模型损失值\n",
    "            valid_mse = valid_model(valid_set, model,device)\n",
    "            if min_mse > valid_mse:\n",
    "                min_mse = valid_mse\n",
    "                torch.save(model.state_dict(),config['save_path'])\n",
    "                early_stop = 0\n",
    "                print('损失值降低、保存模型. epach:{},loss:{}'.format(epoch, min_mse))\n",
    "            else:\n",
    "                early_stop += 1\n",
    "            epoch +=1\n",
    "            loss_record['valid'].append(valid_mse)\n",
    "            if early_stop > config['early_stop_count']:\n",
    "                print('验证集损失平均值小于当前值次数达到:{}、提前停止训练. epach:{},loss:{}'.format(config['early_stop_count'],epoch, min_mse))\n",
    "                return min_mse, loss_record\n",
    "\n",
    "    print('完成模型训练,epach:{},loss:{}'.format(epoch, min_mse))\n",
    "    return min_mse, loss_record"
   ]
  },
  {
   "cell_type": "markdown",
   "metadata": {},
   "source": [
    "#### 加载数据"
   ]
  },
  {
   "cell_type": "code",
   "execution_count": 191,
   "metadata": {},
   "outputs": [
    {
     "name": "stdout",
     "output_type": "stream",
     "text": [
      "完成数据加载、模型:train,数据量:2025\n",
      "完成数据加载、模型:valid,数据量:675\n"
     ]
    }
   ],
   "source": [
    "# shuffle 属性、Training: True Testing:  False\n",
    "train_data = load_data('train',tr_path,config['batch_size'],shuffle=True)\n",
    "vaild_data = load_data('valid',tr_path,config['batch_size'],shuffle=True)\n"
   ]
  },
  {
   "cell_type": "markdown",
   "metadata": {},
   "source": [
    "#### 获取devcei类型: cpu or cuda "
   ]
  },
  {
   "cell_type": "code",
   "execution_count": 192,
   "metadata": {},
   "outputs": [],
   "source": [
    "device = get_device()"
   ]
  },
  {
   "cell_type": "markdown",
   "metadata": {},
   "source": [
    "#### 加载模型"
   ]
  },
  {
   "cell_type": "code",
   "execution_count": 193,
   "metadata": {},
   "outputs": [],
   "source": [
    "model = NeturalNet(train_data.dataset.dim)"
   ]
  },
  {
   "cell_type": "markdown",
   "metadata": {},
   "source": [
    "#### 开始训练"
   ]
  },
  {
   "cell_type": "code",
   "execution_count": 194,
   "metadata": {},
   "outputs": [
    {
     "name": "stdout",
     "output_type": "stream",
     "text": [
      "220\n",
      "损失值降低、保存模型. epach:1,loss:0.5491222240306713\n",
      "损失值降低、保存模型. epach:2,loss:0.09278153030960648\n",
      "损失值降低、保存模型. epach:3,loss:0.046965874565972225\n",
      "损失值降低、保存模型. epach:8,loss:0.038796943381980614\n",
      "损失值降低、保存模型. epach:9,loss:0.017004275851779514\n",
      "损失值降低、保存模型. epach:14,loss:0.016886620698151764\n",
      "损失值降低、保存模型. epach:20,loss:0.013579501399287472\n",
      "损失值降低、保存模型. epach:27,loss:0.011011953707094546\n",
      "损失值降低、保存模型. epach:38,loss:0.00946067456845884\n",
      "损失值降低、保存模型. epach:40,loss:0.008520520528157553\n",
      "损失值降低、保存模型. epach:41,loss:0.006850995664243345\n",
      "损失值降低、保存模型. epach:46,loss:0.006458569985848886\n",
      "损失值降低、保存模型. epach:47,loss:0.00572565997088397\n",
      "损失值降低、保存模型. epach:50,loss:0.005619588781286169\n",
      "损失值降低、保存模型. epach:51,loss:0.004773524955466941\n",
      "损失值降低、保存模型. epach:54,loss:0.003900088557490596\n",
      "损失值降低、保存模型. epach:56,loss:0.003422228848492658\n",
      "损失值降低、保存模型. epach:62,loss:0.0029231092664930556\n",
      "损失值降低、保存模型. epach:63,loss:0.0028410093872635453\n",
      "损失值降低、保存模型. epach:64,loss:0.002625160217285156\n",
      "损失值降低、保存模型. epach:65,loss:0.002234487533569336\n",
      "损失值降低、保存模型. epach:67,loss:0.0017464125597918476\n",
      "损失值降低、保存模型. epach:69,loss:0.0017155668470594618\n",
      "损失值降低、保存模型. epach:71,loss:0.0012800538981402362\n",
      "损失值降低、保存模型. epach:74,loss:0.001074962262754087\n",
      "损失值降低、保存模型. epach:77,loss:0.0009219439824422201\n",
      "损失值降低、保存模型. epach:81,loss:0.0007080356280008952\n",
      "损失值降低、保存模型. epach:86,loss:0.000636517913253219\n",
      "损失值降低、保存模型. epach:88,loss:0.0006268877894790084\n",
      "损失值降低、保存模型. epach:92,loss:0.0005723290531723588\n",
      "损失值降低、保存模型. epach:93,loss:0.0005054275194803873\n",
      "损失值降低、保存模型. epach:110,loss:0.00044310613914772315\n",
      "损失值降低、保存模型. epach:147,loss:0.00036508147363309505\n",
      "损失值降低、保存模型. epach:194,loss:0.0003204788543559887\n",
      "损失值降低、保存模型. epach:202,loss:0.0003113811987417716\n",
      "损失值降低、保存模型. epach:204,loss:0.00023832853193636293\n",
      "损失值降低、保存模型. epach:264,loss:0.00022695872518751356\n",
      "损失值降低、保存模型. epach:274,loss:0.00017352388964758978\n",
      "损失值降低、保存模型. epach:285,loss:0.0001632467684922395\n",
      "损失值降低、保存模型. epach:288,loss:0.0001407710490403352\n",
      "损失值降低、保存模型. epach:324,loss:0.00011292594450491446\n",
      "损失值降低、保存模型. epach:374,loss:0.00010918064249886407\n",
      "损失值降低、保存模型. epach:378,loss:9.864844657756664e-05\n",
      "损失值降低、保存模型. epach:379,loss:8.833989500999451e-05\n",
      "损失值降低、保存模型. epach:399,loss:8.695448990221376e-05\n",
      "损失值降低、保存模型. epach:402,loss:6.945891512764825e-05\n",
      "损失值降低、保存模型. epach:404,loss:6.020546511367515e-05\n",
      "损失值降低、保存模型. epach:447,loss:5.2643561804736105e-05\n",
      "损失值降低、保存模型. epach:448,loss:4.276737018867775e-05\n",
      "损失值降低、保存模型. epach:464,loss:3.3810712673045974e-05\n",
      "损失值降低、保存模型. epach:480,loss:3.248064054383172e-05\n",
      "损失值降低、保存模型. epach:489,loss:3.246835812374397e-05\n",
      "损失值降低、保存模型. epach:492,loss:3.172681839377792e-05\n",
      "损失值降低、保存模型. epach:494,loss:2.9775696220221342e-05\n",
      "损失值降低、保存模型. epach:509,loss:2.960310490043075e-05\n",
      "损失值降低、保存模型. epach:510,loss:2.564661204814911e-05\n",
      "损失值降低、保存模型. epach:511,loss:2.311193694670995e-05\n",
      "损失值降低、保存模型. epach:515,loss:1.811443379631749e-05\n",
      "损失值降低、保存模型. epach:555,loss:1.572773136474468e-05\n",
      "损失值降低、保存模型. epach:565,loss:1.525097147182182e-05\n",
      "损失值降低、保存模型. epach:582,loss:1.4214601229738306e-05\n",
      "损失值降低、保存模型. epach:586,loss:1.0910744744318502e-05\n",
      "损失值降低、保存模型. epach:593,loss:9.86194376040388e-06\n",
      "损失值降低、保存模型. epach:624,loss:9.83560319851946e-06\n",
      "损失值降低、保存模型. epach:635,loss:8.624768643467515e-06\n",
      "损失值降低、保存模型. epach:641,loss:8.277366696684448e-06\n",
      "损失值降低、保存模型. epach:686,loss:7.326411152327502e-06\n",
      "损失值降低、保存模型. epach:694,loss:4.8527794165743724e-06\n",
      "损失值降低、保存模型. epach:799,loss:4.312100095881356e-06\n",
      "验证集损失平均值小于当前值次数达到:220、提前停止训练. epach:1021,loss:4.312100095881356e-06\n"
     ]
    }
   ],
   "source": [
    "min_loss, loss_record = train_model(train_data, vaild_data, model, device, config)"
   ]
  },
  {
   "cell_type": "code",
   "execution_count": 195,
   "metadata": {},
   "outputs": [],
   "source": [
    "#### 绘制学习曲线"
   ]
  },
  {
   "cell_type": "code",
   "execution_count": 196,
   "metadata": {},
   "outputs": [],
   "source": [
    "def plot_learn_curve(loss_record):\n",
    "    total_steps = len(loss_record['train'])\n",
    "    x_1 = range(total_steps)\n",
    "    x_2 = x_1[::len(loss_record['train']) // len(loss_record['valid'])]\n",
    "    plt.figure(figsize=(6, 4))\n",
    "    plt.plot(x_1, loss_record['train'], c='tab:red', label='train')\n",
    "    plt.plot(x_2, loss_record['valid'], c='tab:cyan', label='valid')\n",
    "    plt.ylim(0.0, 5.)\n",
    "    plt.xlabel('Training steps')\n",
    "    plt.ylabel('MSE loss')\n",
    "    plt.title('Learning curve of train')\n",
    "    plt.legend()\n",
    "    plt.show()"
   ]
  },
  {
   "cell_type": "code",
   "execution_count": 197,
   "metadata": {},
   "outputs": [
    {
     "data": {
      "image/png": "[encoded data removed]",
      "text/plain": [
       "<Figure size 432x288 with 1 Axes>"
      ]
     },
     "metadata": {
      "needs_background": "light"
     },
     "output_type": "display_data"
    }
   ],
   "source": [
    "plot_learn_curve(loss_record)"
   ]
  },
  {
   "cell_type": "markdown",
   "metadata": {},
   "source": [
    "#### 绘制预测曲线"
   ]
  },
  {
   "cell_type": "code",
   "execution_count": 198,
   "metadata": {},
   "outputs": [],
   "source": [
    "def plot_pred(dv_set, model, device, lim=35., preds=None, targets=None):\n",
    "    ''' Plot prediction of your DNN '''\n",
    "    if preds is None or targets is None:\n",
    "        model.eval()\n",
    "        preds, targets = [], []\n",
    "        for x, y in dv_set:\n",
    "            x, y = x.to(device), y.to(device)\n",
    "            with torch.no_grad():\n",
    "                pred = model(x)\n",
    "                preds.append(pred.detach().cpu())\n",
    "                targets.append(y.detach().cpu())\n",
    "        preds = torch.cat(preds, dim=0).numpy()\n",
    "        targets = torch.cat(targets, dim=0).numpy()\n",
    "\n",
    "    plt.figure(figsize=(5, 5))\n",
    "    plt.scatter(targets, preds, c='r', alpha=0.5)\n",
    "    plt.plot([-0.2, lim], [-0.2, lim], c='b')\n",
    "    plt.xlim(-0.2, lim)\n",
    "    plt.ylim(-0.2, lim)\n",
    "    plt.xlabel('ground truth value')\n",
    "    plt.ylabel('predicted value')\n",
    "    plt.title('Ground Truth v.s. Prediction')\n",
    "    plt.show()"
   ]
  },
  {
   "cell_type": "code",
   "execution_count": 199,
   "metadata": {},
   "outputs": [
    {
     "data": {
      "image/png": "[encoded data removed]",
      "text/plain": [
       "<Figure size 360x360 with 1 Axes>"
      ]
     },
     "metadata": {
      "needs_background": "light"
     },
     "output_type": "display_data"
    }
   ],
   "source": [
    "plot_pred(vaild_data,model,device,)"
   ]
  }
 ],
 "metadata": {
  "interpreter": {
   "hash": "31c22f3676665ca50e484a514997d5ec4dc4b6edb8bb646d37a9ef7ea9c07c82"
  },
  "kernelspec": {
   "display_name": "Python 3.5.6 ('python35')",
   "language": "python",
   "name": "python3"
  },
  "language_info": {
   "name": "python",
   "version": "3.5.6"
  },
  "orig_nbformat": 4
 },
 "nbformat": 4,
 "nbformat_minor": 2
}
